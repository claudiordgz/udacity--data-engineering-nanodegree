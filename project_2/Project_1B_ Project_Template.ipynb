{
 "cells": [
  {
   "cell_type": "markdown",
   "metadata": {},
   "source": [
    "# Part I. ETL Pipeline for Pre-Processing the Files"
   ]
  },
  {
   "cell_type": "markdown",
   "metadata": {},
   "source": [
    "## Input Preprocessing"
   ]
  },
  {
   "cell_type": "markdown",
   "metadata": {},
   "source": [
    "#### Import Python packages "
   ]
  },
  {
   "cell_type": "code",
   "execution_count": 27,
   "metadata": {},
   "outputs": [],
   "source": [
    "import pandas as pd\n",
    "import cassandra\n",
    "import re\n",
    "import os\n",
    "import glob\n",
    "import numpy as np\n",
    "import json\n",
    "import csv"
   ]
  },
  {
   "cell_type": "markdown",
   "metadata": {},
   "source": [
    "#### Creating list of filepaths to process original event csv data files"
   ]
  },
  {
   "cell_type": "code",
   "execution_count": 28,
   "metadata": {},
   "outputs": [
    {
     "name": "stdout",
     "output_type": "stream",
     "text": [
      "/home/claudiordgz/udacity/dend/project_2\n",
      "number of input files:  30\n"
     ]
    }
   ],
   "source": [
    "# checking your current working directory\n",
    "print(os.getcwd())\n",
    "\n",
    "# Get your current folder and subfolder event data\n",
    "filepath = os.getcwd() + '/event_data'\n",
    "\n",
    "# Create a for loop to create a list of files and collect each filepath\n",
    "for root, dirs, files in os.walk(filepath):\n",
    "    \n",
    "# join the file path and roots with the subdirectories using glob\n",
    "    file_path_list = glob.glob(os.path.join(root,'*'))\n",
    "    print(\"number of input files: \", len(file_path_list))"
   ]
  },
  {
   "cell_type": "markdown",
   "metadata": {},
   "source": [
    "#### Processing the files to create the data file csv that will be used for Apache Casssandra tables"
   ]
  },
  {
   "cell_type": "code",
   "execution_count": 29,
   "metadata": {},
   "outputs": [
    {
     "name": "stdout",
     "output_type": "stream",
     "text": [
      "Total number of rows:  8056\n"
     ]
    }
   ],
   "source": [
    "# initiating an empty list of rows that will be generated from each file\n",
    "full_data_rows_list = [] \n",
    "    \n",
    "# for every filepath in the file path list \n",
    "for f in file_path_list:\n",
    "\n",
    "# reading csv file \n",
    "    with open(f, 'r', encoding = 'utf8', newline='') as csvfile: \n",
    "        # creating a csv reader object \n",
    "        csvreader = csv.reader(csvfile) \n",
    "        next(csvreader)\n",
    "        \n",
    " # extracting each data row one by one and append it        \n",
    "        for line in csvreader:\n",
    "            #print(line)\n",
    "            full_data_rows_list.append(line) \n",
    "            \n",
    "# uncomment the code below if you would like to get total number of rows \n",
    "print(\"Total number of rows: \", len(full_data_rows_list))\n",
    "# uncomment the code below if you would like to check to see what the list of event data rows will look like\n",
    "#print(full_data_rows_list)\n",
    "\n",
    "# creating a smaller event data csv file called event_datafile_full csv that will be used to insert data into the \\\n",
    "# Apache Cassandra tables\n",
    "csv.register_dialect('myDialect', quoting=csv.QUOTE_ALL, skipinitialspace=True)\n",
    "\n",
    "with open('event_datafile_new.csv', 'w', encoding = 'utf8', newline='') as f:\n",
    "    writer = csv.writer(f, dialect='myDialect')\n",
    "    writer.writerow(['artist','firstName','gender','itemInSession','lastName','length',\\\n",
    "                'level','location','sessionId','song','userId'])\n",
    "    for row in full_data_rows_list:\n",
    "        if (row[0] == ''):\n",
    "            continue\n",
    "        writer.writerow((row[0], row[2], row[3], row[4], row[5], row[6], row[7], row[8], row[12], row[13], row[16]))\n"
   ]
  },
  {
   "cell_type": "code",
   "execution_count": 30,
   "metadata": {},
   "outputs": [
    {
     "name": "stdout",
     "output_type": "stream",
     "text": [
      "6821\n"
     ]
    }
   ],
   "source": [
    "# check the number of rows in your csv file\n",
    "with open('event_datafile_new.csv', 'r', encoding = 'utf8') as f:\n",
    "    print(sum(1 for line in f))"
   ]
  },
  {
   "cell_type": "markdown",
   "metadata": {},
   "source": [
    "# CSV to Cassandra DB \n",
    "\n",
    "## <font color=red>event_datafile_new.csv</font> has been generated, and contains the following columns: \n",
    "- artist \n",
    "- firstName of user\n",
    "- gender of user\n",
    "- item number in session\n",
    "- last name of user\n",
    "- length of the song\n",
    "- level (paid or free song)\n",
    "- location of the user\n",
    "- sessionId\n",
    "- song title\n",
    "- userId\n",
    "\n",
    "The image below is a screenshot of what the denormalized data should appear like in the <font color=red>**event_datafile_new.csv**</font> after the code above is run:<br>\n",
    "\n",
    "<img src=\"images/image_event_datafile_new.jpg\">"
   ]
  },
  {
   "cell_type": "markdown",
   "metadata": {},
   "source": [
    "## Cluster connection"
   ]
  },
  {
   "cell_type": "markdown",
   "metadata": {},
   "source": [
    "#### Creating a Cluster"
   ]
  },
  {
   "cell_type": "code",
   "execution_count": 31,
   "metadata": {},
   "outputs": [],
   "source": [
    "from cassandra import cluster\n",
    "\n",
    "try: \n",
    "    cluster = cassandra.cluster.Cluster(['127.0.0.1']) #If you have a locally installed Apache Cassandra instance\n",
    "    session = cluster.connect()\n",
    "except Exception as e:\n",
    "    print(e)"
   ]
  },
  {
   "cell_type": "markdown",
   "metadata": {},
   "source": [
    "#### Create Keyspace"
   ]
  },
  {
   "cell_type": "code",
   "execution_count": 32,
   "metadata": {},
   "outputs": [],
   "source": [
    "try:\n",
    "    session.execute(\"\"\"\n",
    "    CREATE KEYSPACE IF NOT EXISTS udacity \n",
    "    WITH REPLICATION = \n",
    "    { 'class' : 'SimpleStrategy', 'replication_factor' : 1 }\"\"\"\n",
    ")\n",
    "\n",
    "except Exception as e:\n",
    "    print(e)"
   ]
  },
  {
   "cell_type": "markdown",
   "metadata": {},
   "source": [
    "#### Set Keyspace"
   ]
  },
  {
   "cell_type": "code",
   "execution_count": 33,
   "metadata": {},
   "outputs": [],
   "source": [
    "try:\n",
    "    session.set_keyspace('udacity')\n",
    "except Exception as e:\n",
    "    print(e)"
   ]
  },
  {
   "cell_type": "markdown",
   "metadata": {},
   "source": [
    "# Table Creation"
   ]
  },
  {
   "cell_type": "markdown",
   "metadata": {},
   "source": [
    "## Sample Queries\n",
    "\n",
    "### 1. Give me the artist, song title and song's length in the music app history that was heard during  sessionId = 338, and itemInSession  = 4\n",
    "\n",
    "`select artist, song, length in music_app_history where sessionId=338 and itemInSession=4`\n",
    "\n",
    "### 2. Give me only the following: name of artist, song (sorted by itemInSession) and user (first and last name) for userid = 10, sessionid = 182\n",
    "\n",
    "`select artist, song, user_name in music_app_history where sessionId=182 and userid=10`\n",
    "\n",
    "### 3. Give me every user name (first and last) in my music app history who listened to the song 'All Hands Against His Own'\n",
    "\n",
    "`select user_name in music_app_history where song='All Hands Against His Own'`\n"
   ]
  },
  {
   "cell_type": "code",
   "execution_count": 39,
   "metadata": {},
   "outputs": [],
   "source": [
    "tables = [\n",
    "    # Query 1: The PRIMARY KEY is based on our query WHERE clause\n",
    "    \"\"\"CREATE TABLE IF NOT EXISTS session_history \n",
    "    (session_id int,\n",
    "     item_in_session int,\n",
    "     artist text,\n",
    "     song text,\n",
    "     length float,\n",
    "     PRIMARY KEY (\n",
    "         session_id,\n",
    "         item_in_session\n",
    "    ))\"\"\",\n",
    "    # Query 2: The PRIMARY KEY must be sorted by item_in_session, so we add that as a clustering column placed last\n",
    "    # Because our query will only be using user_id and session_id, in that respective order\n",
    "    \"\"\"CREATE TABLE IF NOT EXISTS song_playlist_session \n",
    "    (session_id int,\n",
    "     item_in_session int,\n",
    "     user_id int,\n",
    "     artist text,\n",
    "     song text,\n",
    "     user_name text,\n",
    "     PRIMARY KEY (\n",
    "         (\n",
    "            user_id,\n",
    "            session_id\n",
    "         ),\n",
    "         item_in_session\n",
    "    ))\"\"\",\n",
    "    # Query 3: We will be using song to query our Table, but the user_id is a better candidate for uniqueness than user_name\n",
    "    # So we use both these properties for the PRIMARY KEY\n",
    "    \"\"\"CREATE TABLE IF NOT EXISTS user_song_history \n",
    "    (song text,\n",
    "     user_id int,\n",
    "     user_name text,\n",
    "     PRIMARY KEY (\n",
    "         song,\n",
    "         user_id\n",
    "    ))\"\"\",\n",
    "]\n",
    "\n",
    "for table in tables:\n",
    "    try:\n",
    "        session.execute(table)\n",
    "    except Exception as e:\n",
    "        print(e)"
   ]
  },
  {
   "cell_type": "code",
   "execution_count": 40,
   "metadata": {},
   "outputs": [],
   "source": [
    "def to_val(key, line):\n",
    "    \"\"\"Will fetch the index in the row values and cast it if necessary.\n",
    "    \n",
    "    Keyword arguments:\n",
    "    key -- the desired key based on the DB Schema\n",
    "    line -- the line of values received from the CSV\n",
    "    \"\"\"\n",
    "    indices = {\n",
    "        \"artist\": 0,\n",
    "        \"first_name\": 1,\n",
    "        \"gender\": 2,\n",
    "        \"item_in_session\": 3,\n",
    "        \"last_name\": 4,\n",
    "        \"length\": 5,\n",
    "        \"level\": 6,\n",
    "        \"location\": 7,\n",
    "        \"session_id\": 8,\n",
    "        \"song\": 9,\n",
    "        \"user_id\": 10\n",
    "    }\n",
    "    value = line[indices[key]]\n",
    "    casts = {\n",
    "        \"length\": float,\n",
    "        \"session_id\": int,\n",
    "        \"item_in_session\": int,\n",
    "        \"user_id\": int\n",
    "    }\n",
    "    if key in casts:\n",
    "        value = casts[key](value)\n",
    "    return value\n",
    "\n",
    "def insert_to_cassandra(query, values):\n",
    "    \"\"\"Executes query and raises error if it was not possible\n",
    "    \n",
    "    Keyword arguments:\n",
    "    query -- INSERT statement\n",
    "    values -- tuple of values (1,2,3,4,...,n) expected by query\n",
    "    \"\"\"\n",
    "    try:\n",
    "        session.execute(query, values)\n",
    "    except Exception as e:\n",
    "        print(e)\n",
    "        raise e\n",
    "\n",
    "\n",
    "def insert_data_for_q1(row):\n",
    "    \"\"\"From an Array of values of event_datafile_new.csv\n",
    "       will transform into proper input and insert to cassandra\n",
    "       the following.\n",
    "       (session_id int, item_in_session int, artist string, song string, length float)\n",
    "\n",
    "    Keyword arguments:\n",
    "    row -- row array of values received from CSV\n",
    "    \"\"\"\n",
    "    values = (to_val(\"session_id\", row), to_val(\"item_in_session\", row), to_val(\"artist\", row), to_val(\"song\", row), to_val(\"length\", row))\n",
    "    query = \"INSERT INTO session_history (session_id, item_in_session, artist, song, length)\"\n",
    "    query = query + \" VALUES (%s, %s, %s, %s, %s)\"\n",
    "    insert_to_cassandra(query, values)\n",
    "\n",
    "\n",
    "def insert_data_for_q2(row):\n",
    "    \"\"\"From an Array of values of event_datafile_new.csv\n",
    "       will transform into proper input and insert to cassandra\n",
    "       the following.\n",
    "       (session_id int, item_in_session int, user_id int, artist string, song string, user_name string)\n",
    "\n",
    "    Keyword arguments:\n",
    "    row -- row array of values received from CSV\n",
    "    \"\"\"\n",
    "    user_name = \"{} {}\".format(to_val(\"first_name\", row), to_val(\"last_name\", row))\n",
    "    values = (to_val(\"session_id\", row), to_val(\"item_in_session\", row), to_val(\"user_id\", row), to_val(\"artist\", row), to_val(\"song\", row), user_name)\n",
    "    query = \"INSERT INTO song_playlist_session (session_id, item_in_session, user_id, artist, song, user_name)\"\n",
    "    query = query + \" VALUES (%s, %s, %s, %s, %s, %s)\"\n",
    "    insert_to_cassandra(query, values)\n",
    "\n",
    "\n",
    "def insert_data_for_q3(row):\n",
    "    \"\"\"From an Array of values of event_datafile_new.csv\n",
    "       will transform into proper input and insert to cassandra\n",
    "       the following.\n",
    "       (song string, user_name string, user_id int)\n",
    "\n",
    "    Keyword arguments:\n",
    "    row -- row array of values received from CSV\n",
    "    \"\"\"\n",
    "    user_name = \"{} {}\".format(to_val(\"first_name\", row), to_val(\"last_name\", row))\n",
    "    values = (to_val(\"song\", row), to_val(\"user_id\", row), user_name)\n",
    "    query = \"INSERT INTO user_song_history (song, user_id, user_name)\"\n",
    "    query = query + \" VALUES (%s, %s, %s)\"\n",
    "    insert_to_cassandra(query, values)\n"
   ]
  },
  {
   "cell_type": "code",
   "execution_count": 41,
   "metadata": {},
   "outputs": [],
   "source": [
    "# Load CSV data\n",
    "file = 'event_datafile_new.csv'\n",
    "\n",
    "with open(file, encoding = 'utf8') as f:\n",
    "    csvreader = csv.reader(f)\n",
    "    next(csvreader) # skip header\n",
    "    for line in csvreader:\n",
    "        insert_data_for_q1(line)\n",
    "        insert_data_for_q2(line)\n",
    "        insert_data_for_q3(line)"
   ]
  },
  {
   "cell_type": "markdown",
   "metadata": {},
   "source": [
    "#### SELECT to verify that the data have been inserted into each table"
   ]
  },
  {
   "cell_type": "code",
   "execution_count": 45,
   "metadata": {
    "scrolled": true
   },
   "outputs": [
    {
     "name": "stdout",
     "output_type": "stream",
     "text": [
      "GETTING RECORDS FROM TABLE: session_history\n"
     ]
    },
    {
     "data": {
      "text/html": [
       "<div>\n",
       "<style scoped>\n",
       "    .dataframe tbody tr th:only-of-type {\n",
       "        vertical-align: middle;\n",
       "    }\n",
       "\n",
       "    .dataframe tbody tr th {\n",
       "        vertical-align: top;\n",
       "    }\n",
       "\n",
       "    .dataframe thead th {\n",
       "        text-align: right;\n",
       "    }\n",
       "</style>\n",
       "<table border=\"1\" class=\"dataframe\">\n",
       "  <thead>\n",
       "    <tr style=\"text-align: right;\">\n",
       "      <th></th>\n",
       "      <th>artist</th>\n",
       "      <th>song</th>\n",
       "      <th>length</th>\n",
       "    </tr>\n",
       "  </thead>\n",
       "  <tbody>\n",
       "    <tr>\n",
       "      <th>0</th>\n",
       "      <td>Regina Spektor</td>\n",
       "      <td>The Calculation (Album Version)</td>\n",
       "      <td>191.085266</td>\n",
       "    </tr>\n",
       "    <tr>\n",
       "      <th>1</th>\n",
       "      <td>Octopus Project</td>\n",
       "      <td>All Of The Champs That Ever Lived</td>\n",
       "      <td>250.957916</td>\n",
       "    </tr>\n",
       "    <tr>\n",
       "      <th>2</th>\n",
       "      <td>Tegan And Sara</td>\n",
       "      <td>So Jealous</td>\n",
       "      <td>180.061584</td>\n",
       "    </tr>\n",
       "    <tr>\n",
       "      <th>3</th>\n",
       "      <td>Dragonette</td>\n",
       "      <td>Okay Dolores</td>\n",
       "      <td>153.390564</td>\n",
       "    </tr>\n",
       "    <tr>\n",
       "      <th>4</th>\n",
       "      <td>Lil Wayne / Eminem</td>\n",
       "      <td>Drop The World</td>\n",
       "      <td>229.589752</td>\n",
       "    </tr>\n",
       "  </tbody>\n",
       "</table>\n",
       "</div>"
      ],
      "text/plain": [
       "               artist                               song      length\n",
       "0      Regina Spektor    The Calculation (Album Version)  191.085266\n",
       "1     Octopus Project  All Of The Champs That Ever Lived  250.957916\n",
       "2      Tegan And Sara                         So Jealous  180.061584\n",
       "3          Dragonette                       Okay Dolores  153.390564\n",
       "4  Lil Wayne / Eminem                     Drop The World  229.589752"
      ]
     },
     "metadata": {},
     "output_type": "display_data"
    },
    {
     "name": "stdout",
     "output_type": "stream",
     "text": [
      "\n",
      "GETTING RECORDS FROM TABLE: song_playlist_session\n"
     ]
    },
    {
     "data": {
      "text/html": [
       "<div>\n",
       "<style scoped>\n",
       "    .dataframe tbody tr th:only-of-type {\n",
       "        vertical-align: middle;\n",
       "    }\n",
       "\n",
       "    .dataframe tbody tr th {\n",
       "        vertical-align: top;\n",
       "    }\n",
       "\n",
       "    .dataframe thead th {\n",
       "        text-align: right;\n",
       "    }\n",
       "</style>\n",
       "<table border=\"1\" class=\"dataframe\">\n",
       "  <thead>\n",
       "    <tr style=\"text-align: right;\">\n",
       "      <th></th>\n",
       "      <th>artist</th>\n",
       "      <th>song</th>\n",
       "      <th>user_name</th>\n",
       "    </tr>\n",
       "  </thead>\n",
       "  <tbody>\n",
       "    <tr>\n",
       "      <th>0</th>\n",
       "      <td>System of a Down</td>\n",
       "      <td>Sad Statue</td>\n",
       "      <td>Emily Benson</td>\n",
       "    </tr>\n",
       "    <tr>\n",
       "      <th>1</th>\n",
       "      <td>Ghostland Observatory</td>\n",
       "      <td>Stranger Lover</td>\n",
       "      <td>Emily Benson</td>\n",
       "    </tr>\n",
       "    <tr>\n",
       "      <th>2</th>\n",
       "      <td>Evergreen Terrace</td>\n",
       "      <td>Zero</td>\n",
       "      <td>Emily Benson</td>\n",
       "    </tr>\n",
       "    <tr>\n",
       "      <th>3</th>\n",
       "      <td>Deftones</td>\n",
       "      <td>Head Up (LP Version)</td>\n",
       "      <td>Kinsley Young</td>\n",
       "    </tr>\n",
       "    <tr>\n",
       "      <th>4</th>\n",
       "      <td>The Notorious B.I.G.</td>\n",
       "      <td>Playa Hater (Amended Version)</td>\n",
       "      <td>Kinsley Young</td>\n",
       "    </tr>\n",
       "  </tbody>\n",
       "</table>\n",
       "</div>"
      ],
      "text/plain": [
       "                  artist                           song      user_name\n",
       "0       System of a Down                     Sad Statue   Emily Benson\n",
       "1  Ghostland Observatory                 Stranger Lover   Emily Benson\n",
       "2      Evergreen Terrace                           Zero   Emily Benson\n",
       "3               Deftones           Head Up (LP Version)  Kinsley Young\n",
       "4   The Notorious B.I.G.  Playa Hater (Amended Version)  Kinsley Young"
      ]
     },
     "metadata": {},
     "output_type": "display_data"
    },
    {
     "name": "stdout",
     "output_type": "stream",
     "text": [
      "\n",
      "GETTING RECORDS FROM TABLE: user_song_history\n"
     ]
    },
    {
     "data": {
      "text/html": [
       "<div>\n",
       "<style scoped>\n",
       "    .dataframe tbody tr th:only-of-type {\n",
       "        vertical-align: middle;\n",
       "    }\n",
       "\n",
       "    .dataframe tbody tr th {\n",
       "        vertical-align: top;\n",
       "    }\n",
       "\n",
       "    .dataframe thead th {\n",
       "        text-align: right;\n",
       "    }\n",
       "</style>\n",
       "<table border=\"1\" class=\"dataframe\">\n",
       "  <thead>\n",
       "    <tr style=\"text-align: right;\">\n",
       "      <th></th>\n",
       "      <th>user_name</th>\n",
       "      <th>song</th>\n",
       "    </tr>\n",
       "  </thead>\n",
       "  <tbody>\n",
       "    <tr>\n",
       "      <th>0</th>\n",
       "      <td>Chloe Cuevas</td>\n",
       "      <td>Wonder What's Next</td>\n",
       "    </tr>\n",
       "    <tr>\n",
       "      <th>1</th>\n",
       "      <td>Chloe Cuevas</td>\n",
       "      <td>In The Dragon's Den</td>\n",
       "    </tr>\n",
       "    <tr>\n",
       "      <th>2</th>\n",
       "      <td>Aleena Kirby</td>\n",
       "      <td>Too Tough (1994 Digital Remaster)</td>\n",
       "    </tr>\n",
       "    <tr>\n",
       "      <th>3</th>\n",
       "      <td>Chloe Cuevas</td>\n",
       "      <td>Rio De Janeiro Blue (Album Version)</td>\n",
       "    </tr>\n",
       "    <tr>\n",
       "      <th>4</th>\n",
       "      <td>Lily Koch</td>\n",
       "      <td>My Place</td>\n",
       "    </tr>\n",
       "  </tbody>\n",
       "</table>\n",
       "</div>"
      ],
      "text/plain": [
       "      user_name                                 song\n",
       "0  Chloe Cuevas                   Wonder What's Next\n",
       "1  Chloe Cuevas                  In The Dragon's Den\n",
       "2  Aleena Kirby    Too Tough (1994 Digital Remaster)\n",
       "3  Chloe Cuevas  Rio De Janeiro Blue (Album Version)\n",
       "4     Lily Koch                             My Place"
      ]
     },
     "metadata": {},
     "output_type": "display_data"
    },
    {
     "name": "stdout",
     "output_type": "stream",
     "text": [
      "\n"
     ]
    }
   ],
   "source": [
    "## Add in the SELECT statement to verify the data was entered into the table\n",
    "\n",
    "tables = [\"session_history\", \"song_playlist_session\", \"user_song_history\"]\n",
    "columns = [(\"artist\", \"song\", \"length\"), (\"artist\", \"song\", \"user_name\"), (\"user_name\", \"song\")]\n",
    "for col, t in zip(columns, tables):\n",
    "    print(\"GETTING RECORDS FROM TABLE: {}\".format(t))\n",
    "    query = \"select {} from {} limit 5;\".format(\",\".join(col), t)\n",
    "    try:\n",
    "        rows = session.execute(query)\n",
    "        df = pd.DataFrame(rows, columns=col)\n",
    "        display(df)\n",
    "    except Exception as e:\n",
    "        print(e)\n",
    "    print()"
   ]
  },
  {
   "cell_type": "code",
   "execution_count": 46,
   "metadata": {},
   "outputs": [
    {
     "data": {
      "text/html": [
       "<div>\n",
       "<style scoped>\n",
       "    .dataframe tbody tr th:only-of-type {\n",
       "        vertical-align: middle;\n",
       "    }\n",
       "\n",
       "    .dataframe tbody tr th {\n",
       "        vertical-align: top;\n",
       "    }\n",
       "\n",
       "    .dataframe thead th {\n",
       "        text-align: right;\n",
       "    }\n",
       "</style>\n",
       "<table border=\"1\" class=\"dataframe\">\n",
       "  <thead>\n",
       "    <tr style=\"text-align: right;\">\n",
       "      <th></th>\n",
       "      <th>artist</th>\n",
       "      <th>song</th>\n",
       "      <th>length</th>\n",
       "    </tr>\n",
       "  </thead>\n",
       "  <tbody>\n",
       "    <tr>\n",
       "      <th>0</th>\n",
       "      <td>Faithless</td>\n",
       "      <td>Music Matters (Mark Knight Dub)</td>\n",
       "      <td>495.307312</td>\n",
       "    </tr>\n",
       "  </tbody>\n",
       "</table>\n",
       "</div>"
      ],
      "text/plain": [
       "      artist                             song      length\n",
       "0  Faithless  Music Matters (Mark Knight Dub)  495.307312"
      ]
     },
     "metadata": {},
     "output_type": "display_data"
    }
   ],
   "source": [
    "## Query 1\n",
    "\n",
    "query = \"select artist, song, length from session_history where session_id=338 and item_in_session=4\"\n",
    "columns = (\"artist\", \"song\", \"length\")\n",
    "try:\n",
    "    rows = session.execute(query)\n",
    "    df = pd.DataFrame(rows, columns=columns)\n",
    "    display(df)\n",
    "except Exception as e:\n",
    "    print(e)\n",
    "    "
   ]
  },
  {
   "cell_type": "code",
   "execution_count": 47,
   "metadata": {},
   "outputs": [
    {
     "data": {
      "text/html": [
       "<div>\n",
       "<style scoped>\n",
       "    .dataframe tbody tr th:only-of-type {\n",
       "        vertical-align: middle;\n",
       "    }\n",
       "\n",
       "    .dataframe tbody tr th {\n",
       "        vertical-align: top;\n",
       "    }\n",
       "\n",
       "    .dataframe thead th {\n",
       "        text-align: right;\n",
       "    }\n",
       "</style>\n",
       "<table border=\"1\" class=\"dataframe\">\n",
       "  <thead>\n",
       "    <tr style=\"text-align: right;\">\n",
       "      <th></th>\n",
       "      <th>artist</th>\n",
       "      <th>song</th>\n",
       "      <th>user_name</th>\n",
       "    </tr>\n",
       "  </thead>\n",
       "  <tbody>\n",
       "    <tr>\n",
       "      <th>0</th>\n",
       "      <td>Down To The Bone</td>\n",
       "      <td>Keep On Keepin' On</td>\n",
       "      <td>Sylvie Cruz</td>\n",
       "    </tr>\n",
       "    <tr>\n",
       "      <th>1</th>\n",
       "      <td>Three Drives</td>\n",
       "      <td>Greece 2000</td>\n",
       "      <td>Sylvie Cruz</td>\n",
       "    </tr>\n",
       "    <tr>\n",
       "      <th>2</th>\n",
       "      <td>Sebastien Tellier</td>\n",
       "      <td>Kilometer</td>\n",
       "      <td>Sylvie Cruz</td>\n",
       "    </tr>\n",
       "    <tr>\n",
       "      <th>3</th>\n",
       "      <td>Lonnie Gordon</td>\n",
       "      <td>Catch You Baby (Steve Pitron &amp; Max Sanna Radio...</td>\n",
       "      <td>Sylvie Cruz</td>\n",
       "    </tr>\n",
       "  </tbody>\n",
       "</table>\n",
       "</div>"
      ],
      "text/plain": [
       "              artist                                               song  \\\n",
       "0   Down To The Bone                                 Keep On Keepin' On   \n",
       "1       Three Drives                                        Greece 2000   \n",
       "2  Sebastien Tellier                                          Kilometer   \n",
       "3      Lonnie Gordon  Catch You Baby (Steve Pitron & Max Sanna Radio...   \n",
       "\n",
       "     user_name  \n",
       "0  Sylvie Cruz  \n",
       "1  Sylvie Cruz  \n",
       "2  Sylvie Cruz  \n",
       "3  Sylvie Cruz  "
      ]
     },
     "metadata": {},
     "output_type": "display_data"
    }
   ],
   "source": [
    "## Query 2 Ordered by itemInSession\n",
    "\n",
    "query = \"select artist, song, user_name from song_playlist_session where session_id=182 and user_id=10\"\n",
    "columns = (\"artist\", \"song\", \"user_name\")\n",
    "try:\n",
    "    rows = session.execute(query)\n",
    "    df = pd.DataFrame(rows, columns=columns)\n",
    "    display(df)\n",
    "except Exception as e:\n",
    "    print(e)\n",
    "\n",
    "                    "
   ]
  },
  {
   "cell_type": "code",
   "execution_count": 48,
   "metadata": {},
   "outputs": [
    {
     "data": {
      "text/html": [
       "<div>\n",
       "<style scoped>\n",
       "    .dataframe tbody tr th:only-of-type {\n",
       "        vertical-align: middle;\n",
       "    }\n",
       "\n",
       "    .dataframe tbody tr th {\n",
       "        vertical-align: top;\n",
       "    }\n",
       "\n",
       "    .dataframe thead th {\n",
       "        text-align: right;\n",
       "    }\n",
       "</style>\n",
       "<table border=\"1\" class=\"dataframe\">\n",
       "  <thead>\n",
       "    <tr style=\"text-align: right;\">\n",
       "      <th></th>\n",
       "      <th>user_name</th>\n",
       "    </tr>\n",
       "  </thead>\n",
       "  <tbody>\n",
       "    <tr>\n",
       "      <th>0</th>\n",
       "      <td>Jacqueline Lynch</td>\n",
       "    </tr>\n",
       "    <tr>\n",
       "      <th>1</th>\n",
       "      <td>Tegan Levine</td>\n",
       "    </tr>\n",
       "    <tr>\n",
       "      <th>2</th>\n",
       "      <td>Sara Johnson</td>\n",
       "    </tr>\n",
       "  </tbody>\n",
       "</table>\n",
       "</div>"
      ],
      "text/plain": [
       "          user_name\n",
       "0  Jacqueline Lynch\n",
       "1      Tegan Levine\n",
       "2      Sara Johnson"
      ]
     },
     "metadata": {},
     "output_type": "display_data"
    }
   ],
   "source": [
    "## Query 3\n",
    "\n",
    "query = \"select user_name from user_song_history where song='All Hands Against His Own'\"\n",
    "columns = (\"user_name\",)\n",
    "try:\n",
    "    rows = session.execute(query)\n",
    "    df = pd.DataFrame(rows, columns=columns)\n",
    "    display(df)\n",
    "except Exception as e:\n",
    "    print(e)"
   ]
  },
  {
   "cell_type": "markdown",
   "metadata": {},
   "source": [
    "### Drop the tables before closing out the sessions"
   ]
  },
  {
   "cell_type": "code",
   "execution_count": 49,
   "metadata": {},
   "outputs": [],
   "source": [
    "tables = [\"session_history\", \"song_playlist_session\", \"user_song_history\"]\n",
    "for t in tables:\n",
    "    try:\n",
    "        session.execute(\"drop table {}\".format(t))\n",
    "    except Exception as e:\n",
    "        print(e)"
   ]
  },
  {
   "cell_type": "markdown",
   "metadata": {},
   "source": [
    "### Close the session and cluster connection¶"
   ]
  },
  {
   "cell_type": "code",
   "execution_count": 50,
   "metadata": {},
   "outputs": [],
   "source": [
    "session.shutdown()\n",
    "cluster.shutdown()"
   ]
  },
  {
   "cell_type": "code",
   "execution_count": null,
   "metadata": {},
   "outputs": [],
   "source": []
  }
 ],
 "metadata": {
  "kernelspec": {
   "display_name": "Python 3",
   "language": "python",
   "name": "python3"
  },
  "language_info": {
   "codemirror_mode": {
    "name": "ipython",
    "version": 3
   },
   "file_extension": ".py",
   "mimetype": "text/x-python",
   "name": "python",
   "nbconvert_exporter": "python",
   "pygments_lexer": "ipython3",
   "version": "3.7.6"
  }
 },
 "nbformat": 4,
 "nbformat_minor": 2
}
