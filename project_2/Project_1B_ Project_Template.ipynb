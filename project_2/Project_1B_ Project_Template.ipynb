{
 "cells": [
  {
   "cell_type": "markdown",
   "metadata": {},
   "source": [
    "# Part I. ETL Pipeline for Pre-Processing the Files"
   ]
  },
  {
   "cell_type": "markdown",
   "metadata": {},
   "source": [
    "## PLEASE RUN THE FOLLOWING CODE FOR PRE-PROCESSING THE FILES"
   ]
  },
  {
   "cell_type": "markdown",
   "metadata": {},
   "source": [
    "#### Import Python packages "
   ]
  },
  {
   "cell_type": "code",
   "execution_count": 59,
   "metadata": {},
   "outputs": [],
   "source": [
    "import pandas as pd\n",
    "import cassandra\n",
    "import re\n",
    "import os\n",
    "import glob\n",
    "import numpy as np\n",
    "import json\n",
    "import csv"
   ]
  },
  {
   "cell_type": "markdown",
   "metadata": {},
   "source": [
    "#### Creating list of filepaths to process original event csv data files"
   ]
  },
  {
   "cell_type": "code",
   "execution_count": 60,
   "metadata": {},
   "outputs": [
    {
     "name": "stdout",
     "output_type": "stream",
     "text": [
      "/home/claudiordgz/udacity/dend/project_2\n",
      "number of input files:  30\n"
     ]
    }
   ],
   "source": [
    "# checking your current working directory\n",
    "print(os.getcwd())\n",
    "\n",
    "# Get your current folder and subfolder event data\n",
    "filepath = os.getcwd() + '/event_data'\n",
    "\n",
    "# Create a for loop to create a list of files and collect each filepath\n",
    "for root, dirs, files in os.walk(filepath):\n",
    "    \n",
    "# join the file path and roots with the subdirectories using glob\n",
    "    file_path_list = glob.glob(os.path.join(root,'*'))\n",
    "    print(\"number of input files: \", len(file_path_list))"
   ]
  },
  {
   "cell_type": "markdown",
   "metadata": {},
   "source": [
    "#### Processing the files to create the data file csv that will be used for Apache Casssandra tables"
   ]
  },
  {
   "cell_type": "code",
   "execution_count": 61,
   "metadata": {},
   "outputs": [
    {
     "name": "stdout",
     "output_type": "stream",
     "text": [
      "Total number of rows:  8056\n"
     ]
    }
   ],
   "source": [
    "# initiating an empty list of rows that will be generated from each file\n",
    "full_data_rows_list = [] \n",
    "    \n",
    "# for every filepath in the file path list \n",
    "for f in file_path_list:\n",
    "\n",
    "# reading csv file \n",
    "    with open(f, 'r', encoding = 'utf8', newline='') as csvfile: \n",
    "        # creating a csv reader object \n",
    "        csvreader = csv.reader(csvfile) \n",
    "        next(csvreader)\n",
    "        \n",
    " # extracting each data row one by one and append it        \n",
    "        for line in csvreader:\n",
    "            #print(line)\n",
    "            full_data_rows_list.append(line) \n",
    "            \n",
    "# uncomment the code below if you would like to get total number of rows \n",
    "print(\"Total number of rows: \", len(full_data_rows_list))\n",
    "# uncomment the code below if you would like to check to see what the list of event data rows will look like\n",
    "#print(full_data_rows_list)\n",
    "\n",
    "# creating a smaller event data csv file called event_datafile_full csv that will be used to insert data into the \\\n",
    "# Apache Cassandra tables\n",
    "csv.register_dialect('myDialect', quoting=csv.QUOTE_ALL, skipinitialspace=True)\n",
    "\n",
    "with open('event_datafile_new.csv', 'w', encoding = 'utf8', newline='') as f:\n",
    "    writer = csv.writer(f, dialect='myDialect')\n",
    "    writer.writerow(['artist','firstName','gender','itemInSession','lastName','length',\\\n",
    "                'level','location','sessionId','song','userId'])\n",
    "    for row in full_data_rows_list:\n",
    "        if (row[0] == ''):\n",
    "            continue\n",
    "        writer.writerow((row[0], row[2], row[3], row[4], row[5], row[6], row[7], row[8], row[12], row[13], row[16]))\n"
   ]
  },
  {
   "cell_type": "code",
   "execution_count": 62,
   "metadata": {},
   "outputs": [
    {
     "name": "stdout",
     "output_type": "stream",
     "text": [
      "6821\n"
     ]
    }
   ],
   "source": [
    "# check the number of rows in your csv file\n",
    "with open('event_datafile_new.csv', 'r', encoding = 'utf8') as f:\n",
    "    print(sum(1 for line in f))"
   ]
  },
  {
   "cell_type": "markdown",
   "metadata": {},
   "source": [
    "# Part II. Complete the Apache Cassandra coding portion of your project. \n",
    "\n",
    "## Now you are ready to work with the CSV file titled <font color=red>event_datafile_new.csv</font>, located within the Workspace directory.  The event_datafile_new.csv contains the following columns: \n",
    "- artist \n",
    "- firstName of user\n",
    "- gender of user\n",
    "- item number in session\n",
    "- last name of user\n",
    "- length of the song\n",
    "- level (paid or free song)\n",
    "- location of the user\n",
    "- sessionId\n",
    "- song title\n",
    "- userId\n",
    "\n",
    "The image below is a screenshot of what the denormalized data should appear like in the <font color=red>**event_datafile_new.csv**</font> after the code above is run:<br>\n",
    "\n",
    "<img src=\"images/image_event_datafile_new.jpg\">"
   ]
  },
  {
   "cell_type": "markdown",
   "metadata": {},
   "source": [
    "## Begin writing your Apache Cassandra code in the cells below"
   ]
  },
  {
   "cell_type": "markdown",
   "metadata": {},
   "source": [
    "#### Creating a Cluster"
   ]
  },
  {
   "cell_type": "code",
   "execution_count": 63,
   "metadata": {},
   "outputs": [],
   "source": [
    "try: \n",
    "    cluster = cassandra.cluster.Cluster(['127.0.0.1']) #If you have a locally installed Apache Cassandra instance\n",
    "    session = cluster.connect()\n",
    "except Exception as e:\n",
    "    print(e)"
   ]
  },
  {
   "cell_type": "markdown",
   "metadata": {},
   "source": [
    "#### Create Keyspace"
   ]
  },
  {
   "cell_type": "code",
   "execution_count": 64,
   "metadata": {},
   "outputs": [],
   "source": [
    "try:\n",
    "    session.execute(\"\"\"\n",
    "    CREATE KEYSPACE IF NOT EXISTS udacity \n",
    "    WITH REPLICATION = \n",
    "    { 'class' : 'SimpleStrategy', 'replication_factor' : 1 }\"\"\"\n",
    ")\n",
    "\n",
    "except Exception as e:\n",
    "    print(e)"
   ]
  },
  {
   "cell_type": "markdown",
   "metadata": {},
   "source": [
    "#### Set Keyspace"
   ]
  },
  {
   "cell_type": "code",
   "execution_count": 65,
   "metadata": {},
   "outputs": [],
   "source": [
    "try:\n",
    "    session.set_keyspace('udacity')\n",
    "except Exception as e:\n",
    "    print(e)"
   ]
  },
  {
   "cell_type": "markdown",
   "metadata": {},
   "source": [
    "### Now we need to create tables to run the following queries. Remember, with Apache Cassandra you model the database tables on the queries you want to run."
   ]
  },
  {
   "cell_type": "code",
   "execution_count": 66,
   "metadata": {},
   "outputs": [],
   "source": [
    "tables = [\n",
    "    \"\"\"CREATE TABLE IF NOT EXISTS music_app_history_q1 \n",
    "    (artist text,\n",
    "     song text,\n",
    "     length float,\n",
    "     session_id int,\n",
    "     item_in_session int,\n",
    "     PRIMARY KEY (\n",
    "         session_id,\n",
    "         item_in_session\n",
    "    ))\"\"\",\n",
    "    \"\"\"CREATE TABLE IF NOT EXISTS music_app_history_q2 \n",
    "    (artist text,\n",
    "     song text,\n",
    "     user_name text,\n",
    "     session_id int,\n",
    "     item_in_session int,\n",
    "     user_id int,\n",
    "     PRIMARY KEY (\n",
    "         session_id,\n",
    "         user_id,\n",
    "         item_in_session\n",
    "    ))\"\"\",\n",
    "    \"\"\"CREATE TABLE IF NOT EXISTS music_app_history_q3 \n",
    "    (user_name text,\n",
    "     song text,\n",
    "     PRIMARY KEY (\n",
    "         song,\n",
    "         user_name\n",
    "    ))\"\"\",\n",
    "]\n",
    "\n",
    "for table in tables:\n",
    "    try:\n",
    "        session.execute(table)\n",
    "    except Exception as e:\n",
    "        print(e)"
   ]
  },
  {
   "cell_type": "markdown",
   "metadata": {},
   "source": [
    "## Create queries to ask the following three questions of the data\n",
    "\n",
    "### 1. Give me the artist, song title and song's length in the music app history that was heard during  sessionId = 338, and itemInSession  = 4\n",
    "\n",
    "`select artist, song, length in music_app_history where sessionId=338 and itemInSession=4`\n",
    "\n",
    "### 2. Give me only the following: name of artist, song (sorted by itemInSession) and user (first and last name) for userid = 10, sessionid = 182\n",
    "\n",
    "`select artist, song, user_name in music_app_history where sessionId=182 and userid=10`\n",
    "\n",
    "### 3. Give me every user name (first and last) in my music app history who listened to the song 'All Hands Against His Own'\n",
    "\n",
    "`select user_name in music_app_history where song='All Hands Against His Own'`\n"
   ]
  },
  {
   "cell_type": "code",
   "execution_count": 67,
   "metadata": {},
   "outputs": [],
   "source": [
    "def to_val(key, line):\n",
    "    \"\"\"Will fetch the index in the row values and cast it if necessary.\n",
    "    \n",
    "    Keyword arguments:\n",
    "    key -- the desired key based on the DB Schema\n",
    "    line -- the line of values received from the CSV\n",
    "    \"\"\"\n",
    "    indices = {\n",
    "        \"artist\": 0,\n",
    "        \"first_name\": 1,\n",
    "        \"gender\": 2,\n",
    "        \"item_in_session\": 3,\n",
    "        \"last_name\": 4,\n",
    "        \"length\": 5,\n",
    "        \"level\": 6,\n",
    "        \"location\": 7,\n",
    "        \"session_id\": 8,\n",
    "        \"song\": 9,\n",
    "        \"user_id\": 10\n",
    "    }\n",
    "    value = line[indices[key]]\n",
    "    casts = {\n",
    "        \"length\": float,\n",
    "        \"session_id\": int,\n",
    "        \"item_in_session\": int,\n",
    "        \"user_id\": int\n",
    "    }\n",
    "    if key in casts:\n",
    "        value = casts[key](value)\n",
    "    return value\n",
    "\n",
    "def insert_to_cassandra(query, values):\n",
    "    \"\"\"Executes query and raises error if it was not possible\n",
    "    \n",
    "    Keyword arguments:\n",
    "    query -- INSERT statement\n",
    "    values -- tuple of values (1,2,3,4,...,n) expected by query\n",
    "    \"\"\"\n",
    "    try:\n",
    "        session.execute(query, values)\n",
    "    except Exception as e:\n",
    "        print(e)\n",
    "        raise e\n",
    "\n",
    "\n",
    "def insert_data_for_q1(row):\n",
    "    \"\"\"From an Array of values of event_datafile_new.csv\n",
    "       will transform into proper input and insert to cassandra\n",
    "       the following.\n",
    "       (artist string, song string, length float, session_id int, item_in_session int)\n",
    "\n",
    "    Keyword arguments:\n",
    "    row -- row array of values received from CSV\n",
    "    \"\"\"\n",
    "    values = (to_val(\"artist\", row), to_val(\"song\", row), to_val(\"length\", row), to_val(\"session_id\", row), to_val(\"item_in_session\", row))\n",
    "    query = \"INSERT INTO music_app_history_q1 (artist, song, length, session_id, item_in_session)\"\n",
    "    query = query + \" VALUES (%s, %s, %s, %s, %s)\"\n",
    "    insert_to_cassandra(query, values)\n",
    "\n",
    "\n",
    "def insert_data_for_q2(row):\n",
    "    \"\"\"From an Array of values of event_datafile_new.csv\n",
    "       will transform into proper input and insert to cassandra\n",
    "       the following.\n",
    "       (artist string, song string, user_name string, session_id int, item_in_session int, user_id int)\n",
    "\n",
    "    Keyword arguments:\n",
    "    row -- row array of values received from CSV\n",
    "    \"\"\"\n",
    "    user_name = \"{} {}\".format(to_val(\"first_name\", row), to_val(\"last_name\", row))\n",
    "    values = (to_val(\"artist\", row), to_val(\"song\", row), user_name, to_val(\"session_id\", row), to_val(\"item_in_session\", row), to_val(\"user_id\", row))\n",
    "    query = \"INSERT INTO music_app_history_q2 (artist, song, user_name, session_id, item_in_session, user_id)\"\n",
    "    query = query + \" VALUES (%s, %s, %s, %s, %s, %s)\"\n",
    "    insert_to_cassandra(query, values)\n",
    "\n",
    "\n",
    "def insert_data_for_q3(row):\n",
    "    \"\"\"From an Array of values of event_datafile_new.csv\n",
    "       will transform into proper input and insert to cassandra\n",
    "       the following.\n",
    "       (user_name string, song string)\n",
    "\n",
    "    Keyword arguments:\n",
    "    row -- row array of values received from CSV\n",
    "    \"\"\"\n",
    "    user_name = \"{} {}\".format(to_val(\"first_name\", row), to_val(\"last_name\", row))\n",
    "    values = (user_name, to_val(\"song\", row))\n",
    "    query = \"INSERT INTO music_app_history_q3 (user_name, song)\"\n",
    "    query = query + \" VALUES (%s, %s)\"\n",
    "    insert_to_cassandra(query, values)\n"
   ]
  },
  {
   "cell_type": "code",
   "execution_count": 68,
   "metadata": {},
   "outputs": [],
   "source": [
    "# Load CSV data\n",
    "file = 'event_datafile_new.csv'\n",
    "\n",
    "with open(file, encoding = 'utf8') as f:\n",
    "    csvreader = csv.reader(f)\n",
    "    next(csvreader) # skip header\n",
    "    for line in csvreader:\n",
    "        insert_data_for_q1(line)\n",
    "        insert_data_for_q2(line)\n",
    "        insert_data_for_q3(line)"
   ]
  },
  {
   "cell_type": "code",
   "execution_count": 69,
   "metadata": {},
   "outputs": [
    {
     "name": "stdout",
     "output_type": "stream",
     "text": [
      "Faithless Music Matters (Mark Knight Dub) 495.30731201171875\n"
     ]
    }
   ],
   "source": [
    "## Query 1\n",
    "\n",
    "query = \"select artist, song, length from music_app_history_q1 where session_id=338 and item_in_session=4\"\n",
    "try:\n",
    "    rows = session.execute(query)\n",
    "    for row in rows:\n",
    "        print(row.artist, row.song, row.length)\n",
    "except Exception as e:\n",
    "    print(e)\n",
    "    "
   ]
  },
  {
   "cell_type": "markdown",
   "metadata": {},
   "source": [
    "#### Do a SELECT to verify that the data have been inserted into each table"
   ]
  },
  {
   "cell_type": "code",
   "execution_count": 70,
   "metadata": {
    "scrolled": true
   },
   "outputs": [
    {
     "name": "stdout",
     "output_type": "stream",
     "text": [
      "GETTING RECORDS FROM TABLE: music_app_history_q1\n",
      "Row(session_id=23, item_in_session=0, artist='Regina Spektor', length=191.08526611328125, song='The Calculation (Album Version)')\n",
      "Row(session_id=23, item_in_session=1, artist='Octopus Project', length=250.95791625976562, song='All Of The Champs That Ever Lived')\n",
      "Row(session_id=23, item_in_session=2, artist='Tegan And Sara', length=180.06158447265625, song='So Jealous')\n",
      "Row(session_id=23, item_in_session=3, artist='Dragonette', length=153.39056396484375, song='Okay Dolores')\n",
      "Row(session_id=23, item_in_session=4, artist='Lil Wayne / Eminem', length=229.58975219726562, song='Drop The World')\n",
      "\n",
      "GETTING RECORDS FROM TABLE: music_app_history_q2\n",
      "Row(session_id=23, user_id=24, item_in_session=0, artist='Regina Spektor', song='The Calculation (Album Version)', user_name='Layla Griffin')\n",
      "Row(session_id=23, user_id=24, item_in_session=1, artist='Octopus Project', song='All Of The Champs That Ever Lived', user_name='Layla Griffin')\n",
      "Row(session_id=23, user_id=24, item_in_session=2, artist='Tegan And Sara', song='So Jealous', user_name='Layla Griffin')\n",
      "Row(session_id=23, user_id=24, item_in_session=3, artist='Dragonette', song='Okay Dolores', user_name='Layla Griffin')\n",
      "Row(session_id=23, user_id=24, item_in_session=4, artist='Lil Wayne / Eminem', song='Drop The World', user_name='Layla Griffin')\n",
      "\n",
      "GETTING RECORDS FROM TABLE: music_app_history_q3\n",
      "Row(song=\"Wonder What's Next\", user_name='Chloe Cuevas')\n",
      "Row(song=\"In The Dragon's Den\", user_name='Chloe Cuevas')\n",
      "Row(song='Too Tough (1994 Digital Remaster)', user_name='Aleena Kirby')\n",
      "Row(song='Rio De Janeiro Blue (Album Version)', user_name='Chloe Cuevas')\n",
      "Row(song='My Place', user_name='Jacob Klein')\n",
      "\n"
     ]
    }
   ],
   "source": [
    "## Add in the SELECT statement to verify the data was entered into the table\n",
    "\n",
    "tables = [\"music_app_history_q1\", \"music_app_history_q2\", \"music_app_history_q3\"]\n",
    "for t in tables:\n",
    "    print(\"GETTING RECORDS FROM TABLE: {}\".format(t))\n",
    "    query = \"select * from {} limit 5;\".format(t)\n",
    "    try:\n",
    "        rows = session.execute(query)\n",
    "        for row in rows:\n",
    "            print(row)\n",
    "    except Exception as e:\n",
    "        print(e)\n",
    "    print()"
   ]
  },
  {
   "cell_type": "markdown",
   "metadata": {},
   "source": [
    "### COPY AND REPEAT THE ABOVE THREE CELLS FOR EACH OF THE THREE QUESTIONS"
   ]
  },
  {
   "cell_type": "code",
   "execution_count": 71,
   "metadata": {},
   "outputs": [
    {
     "name": "stdout",
     "output_type": "stream",
     "text": [
      "Down To The Bone Keep On Keepin' On Sylvie Cruz ITEM_IN_SESSION:  0\n",
      "Three Drives Greece 2000 Sylvie Cruz ITEM_IN_SESSION:  1\n",
      "Sebastien Tellier Kilometer Sylvie Cruz ITEM_IN_SESSION:  2\n",
      "Lonnie Gordon Catch You Baby (Steve Pitron & Max Sanna Radio Edit) Sylvie Cruz ITEM_IN_SESSION:  3\n"
     ]
    }
   ],
   "source": [
    "## Query 2 Ordered by itemInSession\n",
    "\n",
    "query = \"select * from music_app_history_q2 where session_id=182 and user_id=10\"\n",
    "try:\n",
    "    rows = session.execute(query)\n",
    "    for row in rows:\n",
    "        print(row.artist, row.song, row.user_name, \"ITEM_IN_SESSION: \", row.item_in_session)\n",
    "except Exception as e:\n",
    "    print(e)\n",
    "\n",
    "                    "
   ]
  },
  {
   "cell_type": "code",
   "execution_count": 72,
   "metadata": {},
   "outputs": [
    {
     "name": "stdout",
     "output_type": "stream",
     "text": [
      "Jacqueline Lynch\n",
      "Sara Johnson\n",
      "Tegan Levine\n"
     ]
    }
   ],
   "source": [
    "## Query 3\n",
    "\n",
    "query = \"select user_name from music_app_history_q3 where song='All Hands Against His Own'\"\n",
    "try:\n",
    "    rows = session.execute(query)\n",
    "    for row in rows:\n",
    "        print(row.user_name)\n",
    "except Exception as e:\n",
    "    print(e)"
   ]
  },
  {
   "cell_type": "markdown",
   "metadata": {},
   "source": [
    "### Drop the tables before closing out the sessions"
   ]
  },
  {
   "cell_type": "code",
   "execution_count": 57,
   "metadata": {},
   "outputs": [
    {
     "name": "stdout",
     "output_type": "stream",
     "text": [
      "('Unable to complete the operation against any hosts', {<Host: 127.0.0.1:9042 datacenter1>: ConnectionException('Pool is shutdown')})\n",
      "('Unable to complete the operation against any hosts', {<Host: 127.0.0.1:9042 datacenter1>: ConnectionException('Pool is shutdown')})\n",
      "('Unable to complete the operation against any hosts', {<Host: 127.0.0.1:9042 datacenter1>: ConnectionException('Pool is shutdown')})\n"
     ]
    }
   ],
   "source": [
    "tables = [\"music_app_history_q1\", \"music_app_history_q2\", \"music_app_history_q3\"]\n",
    "for t in tables:\n",
    "    try:\n",
    "        session.execute(\"drop table {}\".format(t))\n",
    "    except Exception as e:\n",
    "        print(e)"
   ]
  },
  {
   "cell_type": "markdown",
   "metadata": {},
   "source": [
    "### Close the session and cluster connection¶"
   ]
  },
  {
   "cell_type": "code",
   "execution_count": 58,
   "metadata": {},
   "outputs": [],
   "source": [
    "session.shutdown()\n",
    "cluster.shutdown()"
   ]
  },
  {
   "cell_type": "code",
   "execution_count": null,
   "metadata": {},
   "outputs": [],
   "source": []
  }
 ],
 "metadata": {
  "kernelspec": {
   "display_name": "Python 3",
   "language": "python",
   "name": "python3"
  },
  "language_info": {
   "codemirror_mode": {
    "name": "ipython",
    "version": 3
   },
   "file_extension": ".py",
   "mimetype": "text/x-python",
   "name": "python",
   "nbconvert_exporter": "python",
   "pygments_lexer": "ipython3",
   "version": "3.7.6"
  }
 },
 "nbformat": 4,
 "nbformat_minor": 2
}
