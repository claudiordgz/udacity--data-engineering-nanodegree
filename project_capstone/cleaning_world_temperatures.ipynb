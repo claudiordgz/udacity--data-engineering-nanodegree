{
 "cells": [
  {
   "cell_type": "markdown",
   "metadata": {},
   "source": [
    "#### Cleaning Steps - World Temperature Data\n",
    "\n",
    "We need to join I94 Records with World Temperature Data, but City and State identify most of our Port of Entries. Furthermore, the US has duplicated cities, making it dangerous to assume a city is in a specific State. Fortunately, the table contains Latitude and Longitude, and unfortunately, these latitudes and longitudes do not match the location. If we select a sample of arbitrary Latitudes and Longitudes and plot them on Google Maps, we will find that none of them match the city in question but have an offset of 20-50km diameter. "
   ]
  },
  {
   "cell_type": "code",
   "execution_count": 1,
   "metadata": {},
   "outputs": [],
   "source": [
    "from datetime import datetime, timedelta\n",
    "from numpy import nan\n",
    "import numbers\n",
    "from pyspark.sql import SparkSession, SQLContext, GroupedData\n",
    "from pyspark.sql.functions import *\n",
    "from pyspark.sql.types import DoubleType\n",
    "import pandas as pd\n",
    "from os import getcwd\n",
    "\n",
    "from immigration_lib.aws_tools import create_spark_session\n",
    "\n",
    "pd.set_option('display.max_columns', 500)\n",
    "pd.set_option('display.width', 1000)\n",
    "pd.set_option('display.max_rows', 500)\n",
    "\n",
    "aws_config = f\"{getcwd()}/aws_config.cfg\"\n",
    "\n",
    "spark = create_spark_session(aws_config, {}, \"Cleaning World Temperature Data\")"
   ]
  },
  {
   "cell_type": "markdown",
   "metadata": {},
   "source": [
    "  - Latitude and Longitude seem to be in degree decimal plus compass. Example of evidence: http://berkeleyearth.lbl.gov/locations/32.95N-117.77W\n",
    "  - Same latitude and longitude but Compass for S and W denotes a factor of -1"
   ]
  },
  {
   "cell_type": "code",
   "execution_count": 2,
   "metadata": {},
   "outputs": [
    {
     "name": "stdout",
     "output_type": "stream",
     "text": [
      "root\n",
      " |-- Date: timestamp (nullable = true)\n",
      " |-- AverageTemperature: double (nullable = true)\n",
      " |-- AverageTemperatureUncertainty: double (nullable = true)\n",
      " |-- City: string (nullable = true)\n",
      " |-- Country: string (nullable = true)\n",
      " |-- Latitude: double (nullable = true)\n",
      " |-- Longitude: double (nullable = true)\n",
      "\n"
     ]
    },
    {
     "data": {
      "text/plain": [
       "687289"
      ]
     },
     "execution_count": 2,
     "metadata": {},
     "output_type": "execute_result"
    }
   ],
   "source": [
    "def parse_dms(dms):\n",
    "    dm, compass = dms[:-1], dms[-1:]\n",
    "    dm_number = float(dm)\n",
    "    if compass == 'W' or compass == 'S':\n",
    "        dm_number *= -1\n",
    "    return dm_number\n",
    "\n",
    "temperature_data = './temperature-data/GlobalLandTemperaturesByCity.csv'\n",
    "parse_dms_udf = udf(parse_dms, DoubleType())\n",
    "temperature_data_df = spark.read\\\n",
    "                            .option(\"header\",True) \\\n",
    "                            .option(\"dateFormat\", \"yyyy-MM-dd\") \\\n",
    "                            .option(\"inferSchema\", \"true\") \\\n",
    "                            .option(\"nullValue\", \"null\") \\\n",
    "                            .csv(temperature_data) \\\n",
    "                            .withColumn(\"Latitude\", parse_dms_udf(col(\"Latitude\"))) \\\n",
    "                            .withColumn(\"Longitude\", parse_dms_udf(col(\"Longitude\"))) \\\n",
    "                            .withColumnRenamed(\"dt\",\"Date\")\n",
    "\n",
    "temperature_data_df.printSchema()\n",
    "\n",
    "us_cities_temperatures = temperature_data_df.filter(col(\"Country\").contains(\"United States\"))\n",
    "us_cities_temperatures.count()\n",
    "# For reference in Pandas\n",
    "# temperature_data_df = pd.read_csv(temperature_data, parse_dates=['dt'])\n",
    "# temperature_data_df.rename(columns = {'dt':'Date'}, inplace = True)\n",
    "# display(temperature_data_df.head())\n",
    "# display(temperature_data_df[temperature_data_df.Country.str.contains(\"United States\")].head())"
   ]
  },
  {
   "cell_type": "code",
   "execution_count": 3,
   "metadata": {},
   "outputs": [
    {
     "name": "stdout",
     "output_type": "stream",
     "text": [
      "Has Puerto Rico? True\n",
      "Has United States?  True\n",
      "Has Guam?  False\n",
      "Has Virgin Islands?  False\n"
     ]
    }
   ],
   "source": [
    "country_list = temperature_data_df.select('Country').distinct().toPandas()['Country'].values.tolist()\n",
    "pr_in = 'Puerto Rico' in country_list\n",
    "us_in = 'United States' in country_list\n",
    "gu_in = 'Guam' in country_list\n",
    "vi_in = 'Virgin Islands' in country_list\n",
    "print(f'Has Puerto Rico? {pr_in}')\n",
    "print(f'Has United States?  {us_in}')\n",
    "print(f'Has Guam?  {gu_in}')\n",
    "print(f'Has Virgin Islands?  {vi_in}')"
   ]
  },
  {
   "cell_type": "code",
   "execution_count": 4,
   "metadata": {},
   "outputs": [
    {
     "name": "stdout",
     "output_type": "stream",
     "text": [
      "+--------+---------+\n",
      "|Latitude|Longitude|\n",
      "+--------+---------+\n",
      "|   39.38|   -76.99|\n",
      "|   39.38|   -76.99|\n",
      "|   39.38|   -76.99|\n",
      "|   39.38|   -76.99|\n",
      "|   39.38|   -76.99|\n",
      "+--------+---------+\n",
      "only showing top 5 rows\n",
      "\n"
     ]
    }
   ],
   "source": [
    "us_cities_temperatures.filter(col(\"City\") == \"Washington\").select(\"Latitude\", \"Longitude\").show(5)"
   ]
  },
  {
   "cell_type": "code",
   "execution_count": 5,
   "metadata": {},
   "outputs": [
    {
     "data": {
      "text/plain": [
       "694120"
      ]
     },
     "execution_count": 5,
     "metadata": {},
     "output_type": "execute_result"
    }
   ],
   "source": [
    "more_data = temperature_data_df \\\n",
    "    .filter((col(\"Country\").contains(\"United States\")) | col(\"Country\").contains(\"Puerto Rico\"))\n",
    "\n",
    "more_data.count()"
   ]
  },
  {
   "cell_type": "code",
   "execution_count": 6,
   "metadata": {},
   "outputs": [
    {
     "name": "stdout",
     "output_type": "stream",
     "text": [
      "There are 260 combinations of City, Latitude, and Longitude\n",
      "+--------+---------+-----------+-------------+\n",
      "|Latitude|Longitude|       City|      Country|\n",
      "+--------+---------+-----------+-------------+\n",
      "|   45.81|   -93.46| Saint Paul|United States|\n",
      "|   42.59|   -78.55|    Buffalo|United States|\n",
      "|   36.17|   -75.58|    Hampton|United States|\n",
      "|   45.81|   -93.46|Minneapolis|United States|\n",
      "|   32.95|  -117.77|  Fullerton|United States|\n",
      "|   34.56|   -118.7|Simi Valley|United States|\n",
      "|   34.56|   -91.46|Little Rock|United States|\n",
      "|   39.38|   -95.72|     Topeka|United States|\n",
      "|   32.95|   -90.96|    Jackson|United States|\n",
      "|   34.56|   -118.7|Los Angeles|United States|\n",
      "|   32.95|  -117.77|     Corona|United States|\n",
      "|   34.56|  -116.76|    Fontana|United States|\n",
      "|   36.17|  -115.36|  Henderson|United States|\n",
      "|   39.38|   -85.32| Cincinnati|United States|\n",
      "|   36.17|  -115.36|   Paradise|United States|\n",
      "|   37.78|  -122.03|   Berkeley|United States|\n",
      "|   39.38|  -104.05|Westminster|United States|\n",
      "|   36.17|   -75.58| Chesapeake|United States|\n",
      "|   39.38|  -120.69|       Reno|United States|\n",
      "|   39.38|  -106.13|     Arvada|United States|\n",
      "+--------+---------+-----------+-------------+\n",
      "only showing top 20 rows\n",
      "\n"
     ]
    }
   ],
   "source": [
    "print(f'There are {more_data.select(\"Latitude\", \"Longitude\", \"City\", \"Country\").distinct().count()} combinations of City, Latitude, and Longitude')\n",
    "\n",
    "us_cities_temperatures_df = more_data.select(\"Latitude\", \"Longitude\", \"City\", \"Country\").distinct()\n",
    "us_cities_temperatures_df.show()"
   ]
  },
  {
   "cell_type": "code",
   "execution_count": 7,
   "metadata": {},
   "outputs": [
    {
     "data": {
      "text/html": [
       "<div>\n",
       "<style scoped>\n",
       "    .dataframe tbody tr th:only-of-type {\n",
       "        vertical-align: middle;\n",
       "    }\n",
       "\n",
       "    .dataframe tbody tr th {\n",
       "        vertical-align: top;\n",
       "    }\n",
       "\n",
       "    .dataframe thead th {\n",
       "        text-align: right;\n",
       "    }\n",
       "</style>\n",
       "<table border=\"1\" class=\"dataframe\">\n",
       "  <thead>\n",
       "    <tr style=\"text-align: right;\">\n",
       "      <th></th>\n",
       "      <th>Latitude</th>\n",
       "      <th>Longitude</th>\n",
       "      <th>City</th>\n",
       "      <th>Country</th>\n",
       "    </tr>\n",
       "  </thead>\n",
       "  <tbody>\n",
       "    <tr>\n",
       "      <th>0</th>\n",
       "      <td>45.81</td>\n",
       "      <td>-93.46</td>\n",
       "      <td>Saint Paul</td>\n",
       "      <td>United States</td>\n",
       "    </tr>\n",
       "    <tr>\n",
       "      <th>1</th>\n",
       "      <td>42.59</td>\n",
       "      <td>-78.55</td>\n",
       "      <td>Buffalo</td>\n",
       "      <td>United States</td>\n",
       "    </tr>\n",
       "    <tr>\n",
       "      <th>2</th>\n",
       "      <td>36.17</td>\n",
       "      <td>-75.58</td>\n",
       "      <td>Hampton</td>\n",
       "      <td>United States</td>\n",
       "    </tr>\n",
       "    <tr>\n",
       "      <th>3</th>\n",
       "      <td>45.81</td>\n",
       "      <td>-93.46</td>\n",
       "      <td>Minneapolis</td>\n",
       "      <td>United States</td>\n",
       "    </tr>\n",
       "    <tr>\n",
       "      <th>4</th>\n",
       "      <td>32.95</td>\n",
       "      <td>-117.77</td>\n",
       "      <td>Fullerton</td>\n",
       "      <td>United States</td>\n",
       "    </tr>\n",
       "  </tbody>\n",
       "</table>\n",
       "</div>"
      ],
      "text/plain": [
       "   Latitude  Longitude         City        Country\n",
       "0     45.81     -93.46   Saint Paul  United States\n",
       "1     42.59     -78.55      Buffalo  United States\n",
       "2     36.17     -75.58      Hampton  United States\n",
       "3     45.81     -93.46  Minneapolis  United States\n",
       "4     32.95    -117.77    Fullerton  United States"
      ]
     },
     "metadata": {},
     "output_type": "display_data"
    },
    {
     "data": {
      "text/html": [
       "<div>\n",
       "<style scoped>\n",
       "    .dataframe tbody tr th:only-of-type {\n",
       "        vertical-align: middle;\n",
       "    }\n",
       "\n",
       "    .dataframe tbody tr th {\n",
       "        vertical-align: top;\n",
       "    }\n",
       "\n",
       "    .dataframe thead th {\n",
       "        text-align: right;\n",
       "    }\n",
       "</style>\n",
       "<table border=\"1\" class=\"dataframe\">\n",
       "  <thead>\n",
       "    <tr style=\"text-align: right;\">\n",
       "      <th></th>\n",
       "      <th>Latitude</th>\n",
       "      <th>Longitude</th>\n",
       "      <th>City</th>\n",
       "      <th>Country</th>\n",
       "    </tr>\n",
       "  </thead>\n",
       "  <tbody>\n",
       "    <tr>\n",
       "      <th>55</th>\n",
       "      <td>18.48</td>\n",
       "      <td>-65.92</td>\n",
       "      <td>Ponce</td>\n",
       "      <td>Puerto Rico</td>\n",
       "    </tr>\n",
       "    <tr>\n",
       "      <th>138</th>\n",
       "      <td>18.48</td>\n",
       "      <td>-65.92</td>\n",
       "      <td>San Juan</td>\n",
       "      <td>Puerto Rico</td>\n",
       "    </tr>\n",
       "    <tr>\n",
       "      <th>210</th>\n",
       "      <td>18.48</td>\n",
       "      <td>-65.92</td>\n",
       "      <td>Carolina</td>\n",
       "      <td>Puerto Rico</td>\n",
       "    </tr>\n",
       "  </tbody>\n",
       "</table>\n",
       "</div>"
      ],
      "text/plain": [
       "     Latitude  Longitude      City      Country\n",
       "55      18.48     -65.92     Ponce  Puerto Rico\n",
       "138     18.48     -65.92  San Juan  Puerto Rico\n",
       "210     18.48     -65.92  Carolina  Puerto Rico"
      ]
     },
     "metadata": {},
     "output_type": "display_data"
    }
   ],
   "source": [
    "us_cities = us_cities_temperatures_df.toPandas()\n",
    "latlongs_df = us_cities[['Latitude', 'Longitude', 'City', 'Country']]\n",
    "latlongs = latlongs_df.values.tolist()\n",
    "\n",
    "display(latlongs_df[latlongs_df['Country'] == 'United States'].head())\n",
    "display(latlongs_df[latlongs_df['Country'] == 'Puerto Rico'].head())"
   ]
  },
  {
   "cell_type": "markdown",
   "metadata": {},
   "source": [
    "We need to join I94 Records with World Temperature Data, but City and State identify most of our Port of Entries. Furthermore, the US has duplicated cities, making it dangerous to assume a city is in a specific State. Fortunately, the table contains Latitude and Longitude, and unfortunately, these latitudes and longitudes do not match the location (and rounding is not the problem). \n",
    "\n",
    "\n",
    " If we observe on http://berkeleyearth.lbl.gov/locations/29.74N-97.85W, we will see the link to Google Maps, and even though it is deprecated, we can find how it was using the Latitude and Longitude. Here is an example: \n",
    "\n",
    "> https://mapsengine.google.com/11291863457841367551-04024907758807700184-4/mapview/?lat=29.7428&lng=-97.8462&z=8\n",
    "\n",
    "Both Latitude and Longitude were used directly as part of Google Maps.\n",
    "\n",
    "If we select a sample of arbitrary Latitudes and Longitudes and plot them on Google Maps, we will find that none of them match the city in question but have an offset of 20-50km diameter.\n",
    "\n",
    "To fix the Latitudes and Longitudes, we pass a `components` object to Google's Geocoding API, and we use the City name and the Country we are filtering. There are 257 Cities we want to find, and we save the results locally not to accrue too many costs of calling the API."
   ]
  },
  {
   "cell_type": "code",
   "execution_count": 8,
   "metadata": {},
   "outputs": [
    {
     "data": {
      "text/html": [
       "<div>\n",
       "<style scoped>\n",
       "    .dataframe tbody tr th:only-of-type {\n",
       "        vertical-align: middle;\n",
       "    }\n",
       "\n",
       "    .dataframe tbody tr th {\n",
       "        vertical-align: top;\n",
       "    }\n",
       "\n",
       "    .dataframe thead th {\n",
       "        text-align: right;\n",
       "    }\n",
       "</style>\n",
       "<table border=\"1\" class=\"dataframe\">\n",
       "  <thead>\n",
       "    <tr style=\"text-align: right;\">\n",
       "      <th></th>\n",
       "      <th>Latitude</th>\n",
       "      <th>Longitude</th>\n",
       "      <th>City</th>\n",
       "      <th>Country</th>\n",
       "      <th>GeocodingApiResults</th>\n",
       "    </tr>\n",
       "  </thead>\n",
       "  <tbody>\n",
       "    <tr>\n",
       "      <th>0</th>\n",
       "      <td>45.81</td>\n",
       "      <td>-93.46</td>\n",
       "      <td>Saint Paul</td>\n",
       "      <td>United States</td>\n",
       "      <td>[St Paul, MN, USA]</td>\n",
       "    </tr>\n",
       "    <tr>\n",
       "      <th>1</th>\n",
       "      <td>42.59</td>\n",
       "      <td>-78.55</td>\n",
       "      <td>Buffalo</td>\n",
       "      <td>United States</td>\n",
       "      <td>[Buffalo, NY, USA]</td>\n",
       "    </tr>\n",
       "    <tr>\n",
       "      <th>2</th>\n",
       "      <td>36.17</td>\n",
       "      <td>-75.58</td>\n",
       "      <td>Hampton</td>\n",
       "      <td>United States</td>\n",
       "      <td>[Hampton, VA, USA]</td>\n",
       "    </tr>\n",
       "    <tr>\n",
       "      <th>3</th>\n",
       "      <td>45.81</td>\n",
       "      <td>-93.46</td>\n",
       "      <td>Minneapolis</td>\n",
       "      <td>United States</td>\n",
       "      <td>[Minneapolis, MN, USA]</td>\n",
       "    </tr>\n",
       "    <tr>\n",
       "      <th>4</th>\n",
       "      <td>32.95</td>\n",
       "      <td>-117.77</td>\n",
       "      <td>Fullerton</td>\n",
       "      <td>United States</td>\n",
       "      <td>[Fullerton, CA, USA]</td>\n",
       "    </tr>\n",
       "  </tbody>\n",
       "</table>\n",
       "</div>"
      ],
      "text/plain": [
       "   Latitude  Longitude         City        Country     GeocodingApiResults\n",
       "0     45.81     -93.46   Saint Paul  United States      [St Paul, MN, USA]\n",
       "1     42.59     -78.55      Buffalo  United States      [Buffalo, NY, USA]\n",
       "2     36.17     -75.58      Hampton  United States      [Hampton, VA, USA]\n",
       "3     45.81     -93.46  Minneapolis  United States  [Minneapolis, MN, USA]\n",
       "4     32.95    -117.77    Fullerton  United States    [Fullerton, CA, USA]"
      ]
     },
     "execution_count": 8,
     "metadata": {},
     "output_type": "execute_result"
    }
   ],
   "source": [
    "import requests\n",
    "import json\n",
    "import os\n",
    "\n",
    "API_KEY = os.environ['GOOGLE_GEOCODING_API_KEY']\n",
    "\n",
    "if not os.path.isdir('./google-maps'):\n",
    "    os.mkdir('./google-maps')\n",
    "\n",
    "def process_google_results(google_payload):\n",
    "    return [result[\"formatted_address\"] for result in google_payload[\"results\"]]\n",
    "    \n",
    "def process_lat_long(latlong):\n",
    "    latitude = latlong['Latitude']\n",
    "    longitude = latlong['Longitude']\n",
    "    city = latlong['City']\n",
    "    local_tmp_file = f\"./google-maps/{city}.json\"\n",
    "    addresses = None\n",
    "    if not os.path.exists(local_tmp_file):\n",
    "        url = f'https://maps.googleapis.com/maps/api/geocode/json?components=locality:{city}|country:US&latlng={latitude},{longitude}&key={API_KEY}'\n",
    "        response = requests.get(url)\n",
    "        google_api_json = response.json()\n",
    "        with open(local_tmp_file, 'w') as outfile:\n",
    "            json.dump(google_api_json, outfile)\n",
    "        return process_google_results(google_api_json)\n",
    "    else:\n",
    "        with open(local_tmp_file) as json_file:\n",
    "            city_data = json.load(json_file)\n",
    "            return process_google_results(city_data)\n",
    "\n",
    "us_latlongs_df = latlongs_df[latlongs_df['Country'] == 'United States'].copy()\n",
    "pr_latlongs_df = latlongs_df[latlongs_df['Country'] == 'Puerto Rico'].copy()\n",
    "        \n",
    "if \"IsValidCoordinate\" in us_latlongs_df.columns:\n",
    "    us_latlongs_df = us_latlongs_df.drop('IsValidCoordinate', axis=1)\n",
    "\n",
    "us_latlongs_df['GeocodingApiResults'] = us_latlongs_df.apply(process_lat_long, axis=1)\n",
    "\n",
    "us_latlongs_df.head()"
   ]
  },
  {
   "cell_type": "markdown",
   "metadata": {},
   "source": [
    "While we now have results for each of the 257 Entries, it does not mean it is a match. To match each entry, we will use multiple strategies:\n",
    "1. Extract the city part of the Address returned by Google\n",
    "2. Compare the city name directly to the API Result.\n",
    "3. Using `libpostal`, expand any St. to Saint, and compare it with the city.\n",
    "4. If that didn't match, use a fuzzy comparison, if it is a 90% match, it is a valid result.\n",
    "5. All other possibilities are a non-valid result."
   ]
  },
  {
   "cell_type": "code",
   "execution_count": 9,
   "metadata": {},
   "outputs": [
    {
     "name": "stdout",
     "output_type": "stream",
     "text": [
      "Out of 257 cities with latitude and longitudes,\n",
      "only 255 cities were found in the Google Api Results using\n",
      "the same method as Berkeley Earth (e.g., http://berkeleyearth.lbl.gov/locations/29.74N-97.85W).\n",
      "\n",
      "0 Invalid States\n"
     ]
    }
   ],
   "source": [
    "from postal.expand import expand_address\n",
    "from fuzzywuzzy import fuzz\n",
    "\n",
    "def validate_coordinate(row):\n",
    "    city = row['City'].lower()\n",
    "    geocoding_results = [result.split(',') for result in row['GeocodingApiResults']]\n",
    "    if len(geocoding_results) == 0:\n",
    "        if city == 'nuevo laredo':\n",
    "            return (True, ['Laredo', 'TX', 'USA'])\n",
    "        if city == 'corona':\n",
    "            return (True, ['Corona', 'CA', 'USA'])\n",
    "        return (False, [])\n",
    "    for result in geocoding_results:\n",
    "        lresult = [the_str.lower() for the_str in result]\n",
    "        if len(lresult)  == 0:\n",
    "            return (False, result)\n",
    "        if lresult[0] == city:\n",
    "            return (True, result)\n",
    "        possibles = expand_address(lresult[0])\n",
    "        if any([city in possible for possible in possibles]):\n",
    "            return (True, result)\n",
    "        if (fuzz.token_set_ratio(city, lresult[0])) > 90:\n",
    "            return (True, result)\n",
    "    return (False, [])\n",
    "\n",
    "us_latlongs_df['IsValidCoordinate'] = us_latlongs_df.apply(validate_coordinate, axis=1)\n",
    "\n",
    "valid_cities = us_latlongs_df[us_latlongs_df['IsValidCoordinate'].map(lambda x: x[0])].shape[0]\n",
    "invalid_cities = us_latlongs_df[us_latlongs_df['IsValidCoordinate'].map(lambda x: not x[0])]\n",
    "\n",
    "print(f\"\"\"Out of {us_latlongs_df.shape[0]} cities with latitude and longitudes,\n",
    "only {valid_cities - 2} cities were found in the Google Api Results using\n",
    "the same method as Berkeley Earth (e.g., http://berkeleyearth.lbl.gov/locations/29.74N-97.85W).\n",
    "\"\"\")\n",
    "\n",
    "print(f\"{invalid_cities.shape[0]} Invalid States\")"
   ]
  },
  {
   "cell_type": "markdown",
   "metadata": {},
   "source": [
    "Corona is in California. Nuevo Laredo is in Mexico, but according to this [Berkeley Website Page](http://berkeleyearth.lbl.gov/locations/28.13N-99.09W) it was confused with Laredo, TX, so we mark it as such. For these two cases, Google returned no results, and since we are already limiting the US, we add a single clause for each.\n",
    "\n",
    "Washington is another particular case since it is not in any State. For differentiation, we will be using WA as the State name."
   ]
  },
  {
   "cell_type": "code",
   "execution_count": 10,
   "metadata": {},
   "outputs": [
    {
     "data": {
      "text/html": [
       "<div>\n",
       "<style scoped>\n",
       "    .dataframe tbody tr th:only-of-type {\n",
       "        vertical-align: middle;\n",
       "    }\n",
       "\n",
       "    .dataframe tbody tr th {\n",
       "        vertical-align: top;\n",
       "    }\n",
       "\n",
       "    .dataframe thead th {\n",
       "        text-align: right;\n",
       "    }\n",
       "</style>\n",
       "<table border=\"1\" class=\"dataframe\">\n",
       "  <thead>\n",
       "    <tr style=\"text-align: right;\">\n",
       "      <th></th>\n",
       "      <th>Latitude</th>\n",
       "      <th>Longitude</th>\n",
       "      <th>City</th>\n",
       "      <th>Country</th>\n",
       "      <th>State</th>\n",
       "    </tr>\n",
       "  </thead>\n",
       "  <tbody>\n",
       "    <tr>\n",
       "      <th>0</th>\n",
       "      <td>45.81</td>\n",
       "      <td>-93.46</td>\n",
       "      <td>Saint Paul</td>\n",
       "      <td>United States</td>\n",
       "      <td>MN</td>\n",
       "    </tr>\n",
       "    <tr>\n",
       "      <th>1</th>\n",
       "      <td>42.59</td>\n",
       "      <td>-78.55</td>\n",
       "      <td>Buffalo</td>\n",
       "      <td>United States</td>\n",
       "      <td>NY</td>\n",
       "    </tr>\n",
       "  </tbody>\n",
       "</table>\n",
       "</div>"
      ],
      "text/plain": [
       "   Latitude  Longitude        City        Country State\n",
       "0     45.81     -93.46  Saint Paul  United States    MN\n",
       "1     42.59     -78.55     Buffalo  United States    NY"
      ]
     },
     "metadata": {},
     "output_type": "display_data"
    },
    {
     "data": {
      "text/html": [
       "<div>\n",
       "<style scoped>\n",
       "    .dataframe tbody tr th:only-of-type {\n",
       "        vertical-align: middle;\n",
       "    }\n",
       "\n",
       "    .dataframe tbody tr th {\n",
       "        vertical-align: top;\n",
       "    }\n",
       "\n",
       "    .dataframe thead th {\n",
       "        text-align: right;\n",
       "    }\n",
       "</style>\n",
       "<table border=\"1\" class=\"dataframe\">\n",
       "  <thead>\n",
       "    <tr style=\"text-align: right;\">\n",
       "      <th></th>\n",
       "      <th>Latitude</th>\n",
       "      <th>Longitude</th>\n",
       "      <th>City</th>\n",
       "      <th>Country</th>\n",
       "      <th>State</th>\n",
       "    </tr>\n",
       "  </thead>\n",
       "  <tbody>\n",
       "    <tr>\n",
       "      <th>55</th>\n",
       "      <td>18.48</td>\n",
       "      <td>-65.92</td>\n",
       "      <td>Ponce</td>\n",
       "      <td>Puerto Rico</td>\n",
       "      <td>PR</td>\n",
       "    </tr>\n",
       "    <tr>\n",
       "      <th>138</th>\n",
       "      <td>18.48</td>\n",
       "      <td>-65.92</td>\n",
       "      <td>San Juan</td>\n",
       "      <td>Puerto Rico</td>\n",
       "      <td>PR</td>\n",
       "    </tr>\n",
       "  </tbody>\n",
       "</table>\n",
       "</div>"
      ],
      "text/plain": [
       "     Latitude  Longitude      City      Country State\n",
       "55      18.48     -65.92     Ponce  Puerto Rico    PR\n",
       "138     18.48     -65.92  San Juan  Puerto Rico    PR"
      ]
     },
     "metadata": {},
     "output_type": "display_data"
    }
   ],
   "source": [
    "import re\n",
    "\n",
    "def fill_state_from_valid_coordinate(row):\n",
    "    is_valid, address_chunks = row['IsValidCoordinate']\n",
    "    if not is_valid:\n",
    "        return None\n",
    "    pattern = '[A-Z].*[A-Z]'\n",
    "    result = re.findall(pattern, address_chunks[-2]) \n",
    "    if len(result) == 0:\n",
    "        if address_chunks[-2] == \"Washington\":\n",
    "            return \"DC\"\n",
    "        return None\n",
    "    return result[0]\n",
    "    \n",
    "\n",
    "us_latlongs_df['State'] = us_latlongs_df.apply(fill_state_from_valid_coordinate, axis=1)\n",
    "pr_latlongs_df['State'] = pr_latlongs_df['Latitude'].apply(lambda r: 'PR')\n",
    "dataframes = [us_latlongs_df.drop([\"GeocodingApiResults\", \"IsValidCoordinate\"], axis=1), pr_latlongs_df ]\n",
    "temperatures_final_df = pd.concat(dataframes)\n",
    "\n",
    "temperatures_final_df.head()\n",
    "\n",
    "display(temperatures_final_df[temperatures_final_df['Country'] == 'United States'].iloc[:2])\n",
    "display(temperatures_final_df[temperatures_final_df['Country'] == 'Puerto Rico'].iloc[:2])"
   ]
  },
  {
   "cell_type": "markdown",
   "metadata": {},
   "source": [
    "The final step is to merge our Google Data into the Original table to create our ultimate representation for the Staging Table. We drop Latitude and Longitude since it is easier to plot by City and State."
   ]
  },
  {
   "cell_type": "code",
   "execution_count": 11,
   "metadata": {},
   "outputs": [
    {
     "name": "stdout",
     "output_type": "stream",
     "text": [
      "root\n",
      " |-- Date: timestamp (nullable = true)\n",
      " |-- AverageTemperature: double (nullable = true)\n",
      " |-- AverageTemperatureUncertainty: double (nullable = true)\n",
      " |-- City: string (nullable = true)\n",
      " |-- State: string (nullable = true)\n",
      " |-- Country: string (nullable = true)\n",
      "\n"
     ]
    }
   ],
   "source": [
    "from pyspark.sql.types import StringType\n",
    "from pyspark.sql import Row\n",
    "\n",
    "cities_with_states = spark.createDataFrame(temperatures_final_df)\n",
    "cities_with_states.createOrReplaceTempView('cities_with_states')\n",
    "us_cities_temperatures.createOrReplaceTempView('us_cities_temperatures')\n",
    "\n",
    "us_cities_final = spark.sql(\"\"\"\n",
    "SELECT \n",
    "    us_cities_temperatures.Date,\n",
    "    us_cities_temperatures.AverageTemperature, \n",
    "    us_cities_temperatures.AverageTemperatureUncertainty,\n",
    "    us_cities_temperatures.City, \n",
    "    cities_with_states.State,\n",
    "    us_cities_temperatures.Country\n",
    "FROM cities_with_states, us_cities_temperatures\n",
    "WHERE (cities_with_states.Latitude = us_cities_temperatures.Latitude)\n",
    "    AND (cities_with_states.Longitude = us_cities_temperatures.Longitude)\n",
    "    AND (cities_with_states.City = us_cities_temperatures.City)\n",
    "\"\"\")\n",
    "\n",
    "us_cities_final.printSchema()"
   ]
  },
  {
   "cell_type": "code",
   "execution_count": 12,
   "metadata": {},
   "outputs": [
    {
     "data": {
      "text/html": [
       "<div>\n",
       "<style scoped>\n",
       "    .dataframe tbody tr th:only-of-type {\n",
       "        vertical-align: middle;\n",
       "    }\n",
       "\n",
       "    .dataframe tbody tr th {\n",
       "        vertical-align: top;\n",
       "    }\n",
       "\n",
       "    .dataframe thead th {\n",
       "        text-align: right;\n",
       "    }\n",
       "</style>\n",
       "<table border=\"1\" class=\"dataframe\">\n",
       "  <thead>\n",
       "    <tr style=\"text-align: right;\">\n",
       "      <th></th>\n",
       "      <th>Date</th>\n",
       "      <th>AverageTemperature</th>\n",
       "      <th>AverageTemperatureUncertainty</th>\n",
       "      <th>City</th>\n",
       "      <th>State</th>\n",
       "      <th>Country</th>\n",
       "    </tr>\n",
       "  </thead>\n",
       "  <tbody>\n",
       "    <tr>\n",
       "      <th>0</th>\n",
       "      <td>1820-01-01 00:07:00</td>\n",
       "      <td>3.293</td>\n",
       "      <td>3.278</td>\n",
       "      <td>Plano</td>\n",
       "      <td>TX</td>\n",
       "      <td>United States</td>\n",
       "    </tr>\n",
       "    <tr>\n",
       "      <th>1</th>\n",
       "      <td>1820-02-01 00:07:00</td>\n",
       "      <td>8.423</td>\n",
       "      <td>2.879</td>\n",
       "      <td>Plano</td>\n",
       "      <td>TX</td>\n",
       "      <td>United States</td>\n",
       "    </tr>\n",
       "    <tr>\n",
       "      <th>2</th>\n",
       "      <td>1820-03-01 00:07:00</td>\n",
       "      <td>12.046</td>\n",
       "      <td>2.347</td>\n",
       "      <td>Plano</td>\n",
       "      <td>TX</td>\n",
       "      <td>United States</td>\n",
       "    </tr>\n",
       "    <tr>\n",
       "      <th>3</th>\n",
       "      <td>1820-04-01 00:07:00</td>\n",
       "      <td>18.946</td>\n",
       "      <td>2.092</td>\n",
       "      <td>Plano</td>\n",
       "      <td>TX</td>\n",
       "      <td>United States</td>\n",
       "    </tr>\n",
       "    <tr>\n",
       "      <th>4</th>\n",
       "      <td>1820-05-01 00:07:00</td>\n",
       "      <td>22.195</td>\n",
       "      <td>1.832</td>\n",
       "      <td>Plano</td>\n",
       "      <td>TX</td>\n",
       "      <td>United States</td>\n",
       "    </tr>\n",
       "  </tbody>\n",
       "</table>\n",
       "</div>"
      ],
      "text/plain": [
       "                 Date  AverageTemperature  AverageTemperatureUncertainty   City State        Country\n",
       "0 1820-01-01 00:07:00               3.293                          3.278  Plano    TX  United States\n",
       "1 1820-02-01 00:07:00               8.423                          2.879  Plano    TX  United States\n",
       "2 1820-03-01 00:07:00              12.046                          2.347  Plano    TX  United States\n",
       "3 1820-04-01 00:07:00              18.946                          2.092  Plano    TX  United States\n",
       "4 1820-05-01 00:07:00              22.195                          1.832  Plano    TX  United States"
      ]
     },
     "metadata": {},
     "output_type": "display_data"
    },
    {
     "data": {
      "text/html": [
       "<div>\n",
       "<style scoped>\n",
       "    .dataframe tbody tr th:only-of-type {\n",
       "        vertical-align: middle;\n",
       "    }\n",
       "\n",
       "    .dataframe tbody tr th {\n",
       "        vertical-align: top;\n",
       "    }\n",
       "\n",
       "    .dataframe thead th {\n",
       "        text-align: right;\n",
       "    }\n",
       "</style>\n",
       "<table border=\"1\" class=\"dataframe\">\n",
       "  <thead>\n",
       "    <tr style=\"text-align: right;\">\n",
       "      <th></th>\n",
       "      <th>Date</th>\n",
       "      <th>AverageTemperature</th>\n",
       "      <th>AverageTemperatureUncertainty</th>\n",
       "      <th>City</th>\n",
       "      <th>State</th>\n",
       "      <th>Country</th>\n",
       "    </tr>\n",
       "  </thead>\n",
       "  <tbody>\n",
       "  </tbody>\n",
       "</table>\n",
       "</div>"
      ],
      "text/plain": [
       "Empty DataFrame\n",
       "Columns: [Date, AverageTemperature, AverageTemperatureUncertainty, City, State, Country]\n",
       "Index: []"
      ]
     },
     "execution_count": 12,
     "metadata": {},
     "output_type": "execute_result"
    }
   ],
   "source": [
    "display(us_cities_final.select(\"*\").limit(5).toPandas())\n",
    "\n",
    "\n",
    "us_cities_final.filter(isnull(col(\"State\"))).toPandas()"
   ]
  },
  {
   "cell_type": "markdown",
   "metadata": {},
   "source": [
    "#### Conclusions for Cleaning World  Temperature Data\n",
    "\n",
    "1. Always validate Coordinates with some service (in this case Google Maps).\n",
    "2. Make sure you can join the Dataset with other Datasets somehow. In this case, we needed the State, and we obtained it.\n"
   ]
  },
  {
   "cell_type": "code",
   "execution_count": 13,
   "metadata": {},
   "outputs": [
    {
     "name": "stdout",
     "output_type": "stream",
     "text": [
      "+-------------------+------------------+-----------------------------+----------+-----+-------------+\n",
      "|               Date|AverageTemperature|AverageTemperatureUncertainty|      City|State|      Country|\n",
      "+-------------------+------------------+-----------------------------+----------+-----+-------------+\n",
      "|1743-11-01 00:00:00|             5.339|                        1.828|Washington|   DC|United States|\n",
      "|1743-12-01 00:00:00|              null|                         null|Washington|   DC|United States|\n",
      "|1744-01-01 00:00:00|              null|                         null|Washington|   DC|United States|\n",
      "|1744-02-01 00:00:00|              null|                         null|Washington|   DC|United States|\n",
      "|1744-03-01 00:00:00|              null|                         null|Washington|   DC|United States|\n",
      "+-------------------+------------------+-----------------------------+----------+-----+-------------+\n",
      "only showing top 5 rows\n",
      "\n"
     ]
    }
   ],
   "source": [
    "us_cities_final.filter(col(\"State\") == \"DC\").show(5)"
   ]
  },
  {
   "cell_type": "code",
   "execution_count": 14,
   "metadata": {},
   "outputs": [],
   "source": [
    "output_data = \"s3a://claudiordgz-udacity-dend\"\n",
    "us_cities_final.write.parquet(f'{output_data}/capstone/staging_world_temperature_data', mode='append')"
   ]
  },
  {
   "cell_type": "code",
   "execution_count": null,
   "metadata": {},
   "outputs": [],
   "source": []
  }
 ],
 "metadata": {
  "kernelspec": {
   "display_name": "Python 3.7.6 64-bit ('dend': conda)",
   "language": "python",
   "name": "python37664bitdendcondabe16912f160c43dfbe6bed0260909bd2"
  },
  "language_info": {
   "codemirror_mode": {
    "name": "ipython",
    "version": 3
   },
   "file_extension": ".py",
   "mimetype": "text/x-python",
   "name": "python",
   "nbconvert_exporter": "python",
   "pygments_lexer": "ipython3",
   "version": "3.7.7"
  }
 },
 "nbformat": 4,
 "nbformat_minor": 2
}
